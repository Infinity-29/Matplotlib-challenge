{
 "cells": [
  {
   "cell_type": "markdown",
   "id": "760d0667",
   "metadata": {},
   "source": [
    "Observations \n",
    "1>The correlation between mouse weight and the average tumor volume is positive\n",
    "2>Male mouses are more in number than female mouses tested in total\n",
    "3>Capomulin  and Ramicane drugs have more or less same average tumor volume for each regimen."
   ]
  }
 ],
 "metadata": {
  "kernelspec": {
   "display_name": "Python 3",
   "language": "python",
   "name": "python3"
  },
  "language_info": {
   "codemirror_mode": {
    "name": "ipython",
    "version": 3
   },
   "file_extension": ".py",
   "mimetype": "text/x-python",
   "name": "python",
   "nbconvert_exporter": "python",
   "pygments_lexer": "ipython3",
   "version": "3.8.8"
  }
 },
 "nbformat": 4,
 "nbformat_minor": 5
}
